{
  "nbformat": 4,
  "nbformat_minor": 0,
  "metadata": {
    "colab": {
      "provenance": [],
      "collapsed_sections": [
        "KfPbiPHv8Rsw",
        "gNUpSDZE8TsV",
        "aMKDt3nr9yJ9",
        "nz071f8m-ZFr",
        "GK1x839k_oyv",
        "ZVSDNS_rERhd",
        "Ly1j1SpNHRCd",
        "UfpjZ5L0QLad",
        "KPhB6WSCQ1NL"
      ],
      "gpuType": "T4"
    },
    "kernelspec": {
      "name": "python3",
      "display_name": "Python 3"
    },
    "language_info": {
      "name": "python"
    },
    "accelerator": "GPU"
  },
  "cells": [
    {
      "cell_type": "markdown",
      "source": [
        "# 2.2 파이토치 기초 문법"
      ],
      "metadata": {
        "id": "C3M28-_l8NJD"
      }
    },
    {
      "cell_type": "markdown",
      "source": [
        "## 2.2.1 텐서 다루기"
      ],
      "metadata": {
        "id": "KfPbiPHv8Rsw"
      }
    },
    {
      "cell_type": "markdown",
      "source": [
        "###텐서 생성 및 변환"
      ],
      "metadata": {
        "id": "gNUpSDZE8TsV"
      }
    },
    {
      "cell_type": "code",
      "source": [
        "import torch\n",
        "print(torch.tensor([[1,2], [3,4]])) # 2차원 형태의 텐서 생성\n",
        "print(torch.tensor([[1,2], [3,4]], device=\"cuda:0\")) # GPU에 텐서 생성\n",
        "print(torch.tensor([[1,2], [3,4]], dtype=torch.float64)) # dtype을 이용하여 텐서 생성"
      ],
      "metadata": {
        "colab": {
          "base_uri": "https://localhost:8080/"
        },
        "id": "LGuH2xFB8Vgw",
        "outputId": "8cf56ebf-e49b-4b70-f05f-ca0fa710f354"
      },
      "execution_count": 1,
      "outputs": [
        {
          "output_type": "stream",
          "name": "stdout",
          "text": [
            "tensor([[1, 2],\n",
            "        [3, 4]])\n",
            "tensor([[1, 2],\n",
            "        [3, 4]], device='cuda:0')\n",
            "tensor([[1., 2.],\n",
            "        [3., 4.]], dtype=torch.float64)\n"
          ]
        }
      ]
    },
    {
      "cell_type": "code",
      "source": [
        "temp = torch.tensor([[1,2], [3,4]])\n",
        "print(temp.numpy()) # 텐서를 ndarray로 변환\n",
        "\n",
        "temp = torch.tensor([[1,2], [3,4]], device=\"cuda:0\")\n",
        "print(temp.to(\"cpu\").numpy()) # GPU상의 텐서를 CPU의 텐서로 변환한 후 ndarray로 변환"
      ],
      "metadata": {
        "colab": {
          "base_uri": "https://localhost:8080/"
        },
        "id": "3VCrVtKS9ST8",
        "outputId": "be6735c1-1a30-49ac-8616-6e47242fc43c"
      },
      "execution_count": 2,
      "outputs": [
        {
          "output_type": "stream",
          "name": "stdout",
          "text": [
            "[[1 2]\n",
            " [3 4]]\n",
            "[[1 2]\n",
            " [3 4]]\n"
          ]
        }
      ]
    },
    {
      "cell_type": "markdown",
      "source": [
        "###텐서의 인덱스 조작"
      ],
      "metadata": {
        "id": "aMKDt3nr9yJ9"
      }
    },
    {
      "cell_type": "code",
      "source": [
        "temp = torch.FloatTensor([1, 2, 3, 4, 5, 6, 7]) # 파이토치로 1차원 벡터 생성\n",
        "print(temp[0], temp[1], temp[-1]) # 인덱스로 접근\n",
        "print('--------------------------')\n",
        "print(temp[2:5], temp[4:-1]) # 슬라이스로 접근"
      ],
      "metadata": {
        "colab": {
          "base_uri": "https://localhost:8080/"
        },
        "id": "haUcv-Lm9zf9",
        "outputId": "847c3126-e7d3-4b77-dc6c-bb6a435c5a0d"
      },
      "execution_count": 3,
      "outputs": [
        {
          "output_type": "stream",
          "name": "stdout",
          "text": [
            "tensor(1.) tensor(2.) tensor(7.)\n",
            "--------------------------\n",
            "tensor([3., 4., 5.]) tensor([5., 6.])\n"
          ]
        }
      ]
    },
    {
      "cell_type": "markdown",
      "source": [
        "### 텐서 연산 및 차원 조작"
      ],
      "metadata": {
        "id": "nz071f8m-ZFr"
      }
    },
    {
      "cell_type": "markdown",
      "source": [
        "텐서 연산"
      ],
      "metadata": {
        "id": "nPDLXmmu-9XF"
      }
    },
    {
      "cell_type": "code",
      "source": [
        "v = torch.tensor([1, 2, 3]) # 길이가 3인 벡터 생성\n",
        "w = torch.tensor([3, 4, 6])\n",
        "print(w-v) # 길이가 같은 벡터 간 뺄셈 연산"
      ],
      "metadata": {
        "colab": {
          "base_uri": "https://localhost:8080/"
        },
        "id": "5vp9H72Y-a3v",
        "outputId": "a9749274-f6a0-4e3f-da8c-717136f35065"
      },
      "execution_count": 4,
      "outputs": [
        {
          "output_type": "stream",
          "name": "stdout",
          "text": [
            "tensor([2, 2, 3])\n"
          ]
        }
      ]
    },
    {
      "cell_type": "markdown",
      "source": [
        "텐서의 차원 조작"
      ],
      "metadata": {
        "id": "XW9gR5H--u6y"
      }
    },
    {
      "cell_type": "code",
      "source": [
        "temp = torch.tensor([\n",
        "    [1, 2], [3, 4]]) # 2X2 행렬 생성\n",
        "\n",
        "print(temp.shape)\n",
        "print('--------------------------')\n",
        "print(temp.view(4, 1)) # 2X2 행렬을 4X1으로 변형\n",
        "print('--------------------------')\n",
        "print(temp.view(-1)) # 2X2 행렬을 1차원 벡터로 변형\n",
        "print('--------------------------')\n",
        "print(temp.view(1, -1)) # -1=? 다른 차원으로부터 해당 값 유추/ 즉 (1, 4)\n",
        "print('--------------------------')\n",
        "print(temp.view(-1, 1)) # -1=? 즉(4,1)"
      ],
      "metadata": {
        "colab": {
          "base_uri": "https://localhost:8080/"
        },
        "id": "c3tphrcE-v04",
        "outputId": "52326604-a3ca-4f85-b654-09cc3bc4443f"
      },
      "execution_count": 5,
      "outputs": [
        {
          "output_type": "stream",
          "name": "stdout",
          "text": [
            "torch.Size([2, 2])\n",
            "--------------------------\n",
            "tensor([[1],\n",
            "        [2],\n",
            "        [3],\n",
            "        [4]])\n",
            "--------------------------\n",
            "tensor([1, 2, 3, 4])\n",
            "--------------------------\n",
            "tensor([[1, 2, 3, 4]])\n",
            "--------------------------\n",
            "tensor([[1],\n",
            "        [2],\n",
            "        [3],\n",
            "        [4]])\n"
          ]
        }
      ]
    },
    {
      "cell_type": "markdown",
      "source": [
        "## 2.2.2 데이터 준비"
      ],
      "metadata": {
        "id": "GK1x839k_oyv"
      }
    },
    {
      "cell_type": "markdown",
      "source": [
        "###단순하게 파일을 불러와서 사용"
      ],
      "metadata": {
        "id": "dgE_RRLD_zIf"
      }
    },
    {
      "cell_type": "code",
      "source": [
        "!pip install pandas"
      ],
      "metadata": {
        "colab": {
          "base_uri": "https://localhost:8080/"
        },
        "id": "iyhq3eM5_290",
        "outputId": "855cc340-5873-4ed0-f94c-a8033c75c6ee"
      },
      "execution_count": 6,
      "outputs": [
        {
          "output_type": "stream",
          "name": "stdout",
          "text": [
            "Requirement already satisfied: pandas in /usr/local/lib/python3.12/dist-packages (2.2.2)\n",
            "Requirement already satisfied: numpy>=1.26.0 in /usr/local/lib/python3.12/dist-packages (from pandas) (2.0.2)\n",
            "Requirement already satisfied: python-dateutil>=2.8.2 in /usr/local/lib/python3.12/dist-packages (from pandas) (2.9.0.post0)\n",
            "Requirement already satisfied: pytz>=2020.1 in /usr/local/lib/python3.12/dist-packages (from pandas) (2025.2)\n",
            "Requirement already satisfied: tzdata>=2022.7 in /usr/local/lib/python3.12/dist-packages (from pandas) (2025.2)\n",
            "Requirement already satisfied: six>=1.5 in /usr/local/lib/python3.12/dist-packages (from python-dateutil>=2.8.2->pandas) (1.17.0)\n"
          ]
        }
      ]
    },
    {
      "cell_type": "code",
      "source": [
        "import pandas as pd\n",
        "import torch\n",
        "# data = pd.read_csv('../class2.csv') # csv 파일을 불러옴\n",
        "\n",
        "# x = torch.from_num(data['x'].values).unsqueeze(dim=1).float() # csv 파일의 x 칼럼 값을 넘파이 배열로 받아 Tensor(dtype)으로 바꿔줌\n",
        "# y = torch.from_num(data['y'].values).unsqueeze(dim=1).float() # csv 파일의 y 칼럼 값을 넘파이 배열로 받아 Tensor(dtype)으로 바꿔줌"
      ],
      "metadata": {
        "id": "v9PH2JVG_9TC"
      },
      "execution_count": 7,
      "outputs": []
    },
    {
      "cell_type": "markdown",
      "source": [
        "###커스텀 데이터셋을 만들어서 사용\n",
        "- 데이터를 조금씩 나누어 불러서 사용하는 방식"
      ],
      "metadata": {
        "id": "kYP9Z6lKAhEr"
      }
    },
    {
      "cell_type": "code",
      "source": [
        "# CustomDataset 클래스 구현\n",
        "# class CustomDataset(torch.utils.data.Dataset):\n",
        "#   def __init__(self): # 필요한 변수를 선언하고, 데이터셋의 전처리를 해 주는 함수\n",
        "#   def __len__(self): # 데이터셋의 길이, 즉 총 샘플의 수를 가져오는 함수\n",
        "#   def __getitem__(self, index): # 데이터셋에서 특정 데이터를 가져오는 함수"
      ],
      "metadata": {
        "id": "shzRR_CKAjww"
      },
      "execution_count": null,
      "outputs": []
    },
    {
      "cell_type": "code",
      "source": [
        "# import pandas as pd\n",
        "# import torch\n",
        "# from torch.utils.data import Dataset\n",
        "# from torch.utils.data import DataLoader\n",
        "\n",
        "# class CustomDataset(Dataset):\n",
        "#   def __init(self, csv_file): # csv_file 파라미터를 통해 데이터셋 불러옴\n",
        "#     self.label = pd.read_csv(csv_file)\n",
        "\n",
        "#   def __len__(self): # 전체 데이터셋의 크기를 반환\n",
        "#     return len(self.label)\n",
        "\n",
        "#   def __getitem__(self, idx): # 전체 x와 y데이터 중에 해당 idx번째의 데이터를 가져옴\n",
        "#     sample = torch.tensor(self.label.iloc[idx, 0:3]).int()\n",
        "#     label = torch.tensor(self.label.iloc[idx,3]).int()\n",
        "#     return sample, label\n",
        "\n",
        "# tensor_dataset = CustomDataset('../covtype.csv')\n",
        "# dataset = DataLoader(tensor_dataset, batch_size=4, shuffle=True) # 데이터셋을 torch.utils.data.DataLoader에 파라미터로 전달"
      ],
      "metadata": {
        "id": "m7wvMEXVBIiN"
      },
      "execution_count": null,
      "outputs": []
    },
    {
      "cell_type": "markdown",
      "source": [
        "###파이토치에서 제공하는 데이터셋 사용"
      ],
      "metadata": {
        "id": "6VfSX3CNCKNF"
      }
    },
    {
      "cell_type": "code",
      "source": [
        "!pip install requests"
      ],
      "metadata": {
        "colab": {
          "base_uri": "https://localhost:8080/"
        },
        "id": "udGjp_zVCL6M",
        "outputId": "8761801b-3dc6-4121-b869-4d29e6a1f42f"
      },
      "execution_count": 8,
      "outputs": [
        {
          "output_type": "stream",
          "name": "stdout",
          "text": [
            "Requirement already satisfied: requests in /usr/local/lib/python3.12/dist-packages (2.32.4)\n",
            "Requirement already satisfied: charset_normalizer<4,>=2 in /usr/local/lib/python3.12/dist-packages (from requests) (3.4.3)\n",
            "Requirement already satisfied: idna<4,>=2.5 in /usr/local/lib/python3.12/dist-packages (from requests) (3.10)\n",
            "Requirement already satisfied: urllib3<3,>=1.21.1 in /usr/local/lib/python3.12/dist-packages (from requests) (2.5.0)\n",
            "Requirement already satisfied: certifi>=2017.4.17 in /usr/local/lib/python3.12/dist-packages (from requests) (2025.8.3)\n"
          ]
        }
      ]
    },
    {
      "cell_type": "code",
      "source": [
        "import torchvision.transforms as transforms\n",
        "\n",
        "mnist_transform = transforms.Compose([\n",
        "    transforms.ToTensor(),\n",
        "    transforms.Normalize((0.5,), (1.0,))\n",
        "]) # 평균이 0.5, 표준편차가 1.0이 되도록 데이터의 분포 조정\n",
        "\n",
        "from torchvision.datasets import MNIST\n",
        "import requests\n",
        "download_root = '../euron_ch2/data/MNIST_DATASET'\n",
        "\n",
        "train_dataset = MNIST(\n",
        "    download_root,\n",
        "    transform=mnist_transform,\n",
        "    train=True,\n",
        "    download=True\n",
        ")\n",
        "valid_dataset = MNIST(\n",
        "    download_root,\n",
        "    transform=mnist_transform,\n",
        "    train=False,\n",
        "    download=True\n",
        ")\n",
        "test_dataset = MNIST(\n",
        "    download_root,\n",
        "    transform=mnist_transform,\n",
        "    train=False,\n",
        "    download=True\n",
        ")"
      ],
      "metadata": {
        "colab": {
          "base_uri": "https://localhost:8080/"
        },
        "id": "h9wUOZRuDdZe",
        "outputId": "a5d8089b-1cb5-4475-f652-9831c3d0a7e8"
      },
      "execution_count": 9,
      "outputs": [
        {
          "output_type": "stream",
          "name": "stderr",
          "text": [
            "100%|██████████| 9.91M/9.91M [00:00<00:00, 18.1MB/s]\n",
            "100%|██████████| 28.9k/28.9k [00:00<00:00, 491kB/s]\n",
            "100%|██████████| 1.65M/1.65M [00:00<00:00, 3.89MB/s]\n",
            "100%|██████████| 4.54k/4.54k [00:00<00:00, 6.61MB/s]\n"
          ]
        }
      ]
    },
    {
      "cell_type": "markdown",
      "source": [
        "## 2.2.3 모델 정의\n",
        "- 계층: 모듈 or 모듈을 구성하는 한 개의 계층\n",
        "- 모듈: 한 개 이상의 계층이 모여서 구성된 것\n",
        "- 모델: 최종적으로 원하는 네트워크"
      ],
      "metadata": {
        "id": "ZVSDNS_rERhd"
      }
    },
    {
      "cell_type": "markdown",
      "source": [
        "###nn.Module()을 상속하여 정의하는 방법"
      ],
      "metadata": {
        "id": "gCm75dHtEo3N"
      }
    },
    {
      "cell_type": "code",
      "source": [
        "# class MLP(Module):\n",
        "#   def __init__(self, inputs):\n",
        "#     super(MLP, self).__init__()\n",
        "#     self.layer = Linear(inputs, 1) # 계층 정의\n",
        "#     self.activation = Sigmoid() # 활성화 함수 정의\n",
        "\n",
        "#   def forward(self, X):\n",
        "#     X = self.layer(X)\n",
        "#     X = self.axtivation(X)\n",
        "#     return X"
      ],
      "metadata": {
        "id": "JF9HwH6CEtbo"
      },
      "execution_count": null,
      "outputs": []
    },
    {
      "cell_type": "markdown",
      "source": [
        "### Sequential 신경망을 정의하는 방법"
      ],
      "metadata": {
        "id": "5f3QTFPDFNPC"
      }
    },
    {
      "cell_type": "code",
      "source": [
        "import torch.nn as nn\n",
        "class MLP(nn.Module):\n",
        "  def __init__(self):\n",
        "    super(MLP, self).__init__()\n",
        "    self.layer1 = nn.Sequential(\n",
        "        nn.Conv2d(in_channels=3, out_channels=64, kernel_size=5),\n",
        "        nn.ReLU(inplace=True),\n",
        "        nn.MaxPool2d(2)\n",
        "    )\n",
        "\n",
        "    self.layer2 = nn.Sequential(\n",
        "        nn.Conv2d(in_channels=64, out_channels=30, kernel_size=5),\n",
        "        nn.ReLU(inplace=True),\n",
        "        nn.MaxPool2d(2)\n",
        "    )\n",
        "\n",
        "    self.layer3 = nn.Sequential(\n",
        "        nn.Linear(in_features=30*5*5, out_features=10, bias=True),\n",
        "        nn.ReLU(inplace=True))\n",
        "\n",
        "    def forward(self, x):\n",
        "      x = self.layer1(x)\n",
        "      x = self.layer2(x)\n",
        "      x = x.view(x.shape[0], -1)\n",
        "      x = self.layer3(x)\n",
        "      return x\n",
        "\n",
        "model = MLP() # 모델에 대한 객체 생성\n",
        "\n",
        "print(\"Printing children\\n--------------------------\")\n",
        "print(list(model.children()))\n",
        "print(\"\\n\\nPrinting Modules\\n--------------------------\")\n",
        "print(list(model.modules()))"
      ],
      "metadata": {
        "colab": {
          "base_uri": "https://localhost:8080/"
        },
        "id": "9fO_BLoQFRi2",
        "outputId": "58d89d7b-82b5-47aa-9fff-c4b9ad0824ce"
      },
      "execution_count": 10,
      "outputs": [
        {
          "output_type": "stream",
          "name": "stdout",
          "text": [
            "Printing children\n",
            "--------------------------\n",
            "[Sequential(\n",
            "  (0): Conv2d(3, 64, kernel_size=(5, 5), stride=(1, 1))\n",
            "  (1): ReLU(inplace=True)\n",
            "  (2): MaxPool2d(kernel_size=2, stride=2, padding=0, dilation=1, ceil_mode=False)\n",
            "), Sequential(\n",
            "  (0): Conv2d(64, 30, kernel_size=(5, 5), stride=(1, 1))\n",
            "  (1): ReLU(inplace=True)\n",
            "  (2): MaxPool2d(kernel_size=2, stride=2, padding=0, dilation=1, ceil_mode=False)\n",
            "), Sequential(\n",
            "  (0): Linear(in_features=750, out_features=10, bias=True)\n",
            "  (1): ReLU(inplace=True)\n",
            ")]\n",
            "\n",
            "\n",
            "Printing Modules\n",
            "--------------------------\n",
            "[MLP(\n",
            "  (layer1): Sequential(\n",
            "    (0): Conv2d(3, 64, kernel_size=(5, 5), stride=(1, 1))\n",
            "    (1): ReLU(inplace=True)\n",
            "    (2): MaxPool2d(kernel_size=2, stride=2, padding=0, dilation=1, ceil_mode=False)\n",
            "  )\n",
            "  (layer2): Sequential(\n",
            "    (0): Conv2d(64, 30, kernel_size=(5, 5), stride=(1, 1))\n",
            "    (1): ReLU(inplace=True)\n",
            "    (2): MaxPool2d(kernel_size=2, stride=2, padding=0, dilation=1, ceil_mode=False)\n",
            "  )\n",
            "  (layer3): Sequential(\n",
            "    (0): Linear(in_features=750, out_features=10, bias=True)\n",
            "    (1): ReLU(inplace=True)\n",
            "  )\n",
            "), Sequential(\n",
            "  (0): Conv2d(3, 64, kernel_size=(5, 5), stride=(1, 1))\n",
            "  (1): ReLU(inplace=True)\n",
            "  (2): MaxPool2d(kernel_size=2, stride=2, padding=0, dilation=1, ceil_mode=False)\n",
            "), Conv2d(3, 64, kernel_size=(5, 5), stride=(1, 1)), ReLU(inplace=True), MaxPool2d(kernel_size=2, stride=2, padding=0, dilation=1, ceil_mode=False), Sequential(\n",
            "  (0): Conv2d(64, 30, kernel_size=(5, 5), stride=(1, 1))\n",
            "  (1): ReLU(inplace=True)\n",
            "  (2): MaxPool2d(kernel_size=2, stride=2, padding=0, dilation=1, ceil_mode=False)\n",
            "), Conv2d(64, 30, kernel_size=(5, 5), stride=(1, 1)), ReLU(inplace=True), MaxPool2d(kernel_size=2, stride=2, padding=0, dilation=1, ceil_mode=False), Sequential(\n",
            "  (0): Linear(in_features=750, out_features=10, bias=True)\n",
            "  (1): ReLU(inplace=True)\n",
            "), Linear(in_features=750, out_features=10, bias=True), ReLU(inplace=True)]\n"
          ]
        }
      ]
    },
    {
      "cell_type": "markdown",
      "source": [
        "### 함수로 신경망을 정의하는 방법"
      ],
      "metadata": {
        "id": "T4nPLgBDGqV5"
      }
    },
    {
      "cell_type": "code",
      "source": [
        "def MLP(in_features=1, hidden_features=20, out_features=1):\n",
        "  hidden = nn.Linear(in_features=in_features, out_features=hidden_features, bias=True)\n",
        "  activation = nn.ReLU()\n",
        "  output = nn.Linear(in_featrues=hidden_features, out_features=out_features, bias=True)\n",
        "  net = nn.Sequential(hidden, activation, output)\n",
        "  return net"
      ],
      "metadata": {
        "id": "e0yHE_9bGsyb"
      },
      "execution_count": 11,
      "outputs": []
    },
    {
      "cell_type": "markdown",
      "source": [
        "## 2.2.4 모델의 파라미터 정의"
      ],
      "metadata": {
        "id": "Ly1j1SpNHRCd"
      }
    },
    {
      "cell_type": "code",
      "source": [
        "# from torch.optim import optimizer\n",
        "# criterion = torch.nn.MSELoss()\n",
        "# optimizer = torch.optim.SGD(model.parameters(), lr=0.01, momentum=0.9)\n",
        "# scheduler = torch.optim.lr_scheduler.LambdaLR(optimizer=optimizer, lr_lambda=lambda epoch: 0.95 ** epoch)\n",
        "\n",
        "# for epoch in range(1, 100+1): # 에포크 수만큼 데이터를 반복 처리\n",
        "#   for x, y in dataloader:\n",
        "#     optimizer.zero_grad()\n",
        "# loss_fn(model(x), y).backward()\n",
        "# optimizer.step()\n",
        "# scheduler.step()"
      ],
      "metadata": {
        "id": "xW73E2S1Pize"
      },
      "execution_count": 15,
      "outputs": []
    },
    {
      "cell_type": "markdown",
      "source": [
        "## 2.2.5 모델 훈련"
      ],
      "metadata": {
        "id": "UfpjZ5L0QLad"
      }
    },
    {
      "cell_type": "code",
      "source": [
        "# # 모델 훈련 예시\n",
        "# for epoch in range(100):\n",
        "#   yhat = model(x_train)\n",
        "#   loss = criterion(yhat, y_train)\n",
        "#   optimizer.zero_grad() # 오차가 중첩적으로 쌓이지 않도록 초기화\n",
        "#   loss.backward()\n",
        "#   optimizer.step()"
      ],
      "metadata": {
        "id": "VoXld1enQNlv"
      },
      "execution_count": null,
      "outputs": []
    },
    {
      "cell_type": "markdown",
      "source": [
        "## 2.2.6 모델 평가"
      ],
      "metadata": {
        "id": "KPhB6WSCQ1NL"
      }
    },
    {
      "cell_type": "code",
      "source": [
        "!pip install torchmetrics"
      ],
      "metadata": {
        "colab": {
          "base_uri": "https://localhost:8080/"
        },
        "id": "lIxB2jwGQ2_h",
        "outputId": "3c8ed957-c0b7-4f7d-c6bb-e69be39d7822"
      },
      "execution_count": 16,
      "outputs": [
        {
          "output_type": "stream",
          "name": "stdout",
          "text": [
            "Collecting torchmetrics\n",
            "  Downloading torchmetrics-1.8.2-py3-none-any.whl.metadata (22 kB)\n",
            "Requirement already satisfied: numpy>1.20.0 in /usr/local/lib/python3.12/dist-packages (from torchmetrics) (2.0.2)\n",
            "Requirement already satisfied: packaging>17.1 in /usr/local/lib/python3.12/dist-packages (from torchmetrics) (25.0)\n",
            "Requirement already satisfied: torch>=2.0.0 in /usr/local/lib/python3.12/dist-packages (from torchmetrics) (2.8.0+cu126)\n",
            "Collecting lightning-utilities>=0.8.0 (from torchmetrics)\n",
            "  Downloading lightning_utilities-0.15.2-py3-none-any.whl.metadata (5.7 kB)\n",
            "Requirement already satisfied: setuptools in /usr/local/lib/python3.12/dist-packages (from lightning-utilities>=0.8.0->torchmetrics) (75.2.0)\n",
            "Requirement already satisfied: typing_extensions in /usr/local/lib/python3.12/dist-packages (from lightning-utilities>=0.8.0->torchmetrics) (4.15.0)\n",
            "Requirement already satisfied: filelock in /usr/local/lib/python3.12/dist-packages (from torch>=2.0.0->torchmetrics) (3.19.1)\n",
            "Requirement already satisfied: sympy>=1.13.3 in /usr/local/lib/python3.12/dist-packages (from torch>=2.0.0->torchmetrics) (1.13.3)\n",
            "Requirement already satisfied: networkx in /usr/local/lib/python3.12/dist-packages (from torch>=2.0.0->torchmetrics) (3.5)\n",
            "Requirement already satisfied: jinja2 in /usr/local/lib/python3.12/dist-packages (from torch>=2.0.0->torchmetrics) (3.1.6)\n",
            "Requirement already satisfied: fsspec in /usr/local/lib/python3.12/dist-packages (from torch>=2.0.0->torchmetrics) (2025.3.0)\n",
            "Requirement already satisfied: nvidia-cuda-nvrtc-cu12==12.6.77 in /usr/local/lib/python3.12/dist-packages (from torch>=2.0.0->torchmetrics) (12.6.77)\n",
            "Requirement already satisfied: nvidia-cuda-runtime-cu12==12.6.77 in /usr/local/lib/python3.12/dist-packages (from torch>=2.0.0->torchmetrics) (12.6.77)\n",
            "Requirement already satisfied: nvidia-cuda-cupti-cu12==12.6.80 in /usr/local/lib/python3.12/dist-packages (from torch>=2.0.0->torchmetrics) (12.6.80)\n",
            "Requirement already satisfied: nvidia-cudnn-cu12==9.10.2.21 in /usr/local/lib/python3.12/dist-packages (from torch>=2.0.0->torchmetrics) (9.10.2.21)\n",
            "Requirement already satisfied: nvidia-cublas-cu12==12.6.4.1 in /usr/local/lib/python3.12/dist-packages (from torch>=2.0.0->torchmetrics) (12.6.4.1)\n",
            "Requirement already satisfied: nvidia-cufft-cu12==11.3.0.4 in /usr/local/lib/python3.12/dist-packages (from torch>=2.0.0->torchmetrics) (11.3.0.4)\n",
            "Requirement already satisfied: nvidia-curand-cu12==10.3.7.77 in /usr/local/lib/python3.12/dist-packages (from torch>=2.0.0->torchmetrics) (10.3.7.77)\n",
            "Requirement already satisfied: nvidia-cusolver-cu12==11.7.1.2 in /usr/local/lib/python3.12/dist-packages (from torch>=2.0.0->torchmetrics) (11.7.1.2)\n",
            "Requirement already satisfied: nvidia-cusparse-cu12==12.5.4.2 in /usr/local/lib/python3.12/dist-packages (from torch>=2.0.0->torchmetrics) (12.5.4.2)\n",
            "Requirement already satisfied: nvidia-cusparselt-cu12==0.7.1 in /usr/local/lib/python3.12/dist-packages (from torch>=2.0.0->torchmetrics) (0.7.1)\n",
            "Requirement already satisfied: nvidia-nccl-cu12==2.27.3 in /usr/local/lib/python3.12/dist-packages (from torch>=2.0.0->torchmetrics) (2.27.3)\n",
            "Requirement already satisfied: nvidia-nvtx-cu12==12.6.77 in /usr/local/lib/python3.12/dist-packages (from torch>=2.0.0->torchmetrics) (12.6.77)\n",
            "Requirement already satisfied: nvidia-nvjitlink-cu12==12.6.85 in /usr/local/lib/python3.12/dist-packages (from torch>=2.0.0->torchmetrics) (12.6.85)\n",
            "Requirement already satisfied: nvidia-cufile-cu12==1.11.1.6 in /usr/local/lib/python3.12/dist-packages (from torch>=2.0.0->torchmetrics) (1.11.1.6)\n",
            "Requirement already satisfied: triton==3.4.0 in /usr/local/lib/python3.12/dist-packages (from torch>=2.0.0->torchmetrics) (3.4.0)\n",
            "Requirement already satisfied: mpmath<1.4,>=1.1.0 in /usr/local/lib/python3.12/dist-packages (from sympy>=1.13.3->torch>=2.0.0->torchmetrics) (1.3.0)\n",
            "Requirement already satisfied: MarkupSafe>=2.0 in /usr/local/lib/python3.12/dist-packages (from jinja2->torch>=2.0.0->torchmetrics) (3.0.2)\n",
            "Downloading torchmetrics-1.8.2-py3-none-any.whl (983 kB)\n",
            "\u001b[2K   \u001b[90m━━━━━━━━━━━━━━━━━━━━━━━━━━━━━━━━━━━━━━━━\u001b[0m \u001b[32m983.2/983.2 kB\u001b[0m \u001b[31m20.8 MB/s\u001b[0m eta \u001b[36m0:00:00\u001b[0m\n",
            "\u001b[?25hDownloading lightning_utilities-0.15.2-py3-none-any.whl (29 kB)\n",
            "Installing collected packages: lightning-utilities, torchmetrics\n",
            "Successfully installed lightning-utilities-0.15.2 torchmetrics-1.8.2\n"
          ]
        }
      ]
    },
    {
      "cell_type": "markdown",
      "source": [
        "함수를 이용하여 모델을 평가"
      ],
      "metadata": {
        "id": "WAwkK_eWQ9x5"
      }
    },
    {
      "cell_type": "code",
      "source": [
        "# import torch\n",
        "# import torchmetrics\n",
        "\n",
        "# preds = torch.randn(10, 5).softmax(dim=-1)\n",
        "# target = torch.randint(5, (10,))\n",
        "\n",
        "# acc = torchmetrics.functional.accuracy(preds, target)"
      ],
      "metadata": {
        "id": "CARqaDjzQ_ly"
      },
      "execution_count": 19,
      "outputs": []
    },
    {
      "cell_type": "markdown",
      "source": [
        "모듈을 이용하여 모델을 평가"
      ],
      "metadata": {
        "id": "Rk-o75qoRR2i"
      }
    },
    {
      "cell_type": "code",
      "source": [
        "# import torch\n",
        "# import torchmetrics\n",
        "# metric = torchmetrics.Accuracy() # 모델 평가 초기화\n",
        "\n",
        "# n_batches = 10\n",
        "# for i in range(n_batches):\n",
        "#   preds = torch.randn(10, 5).softmax(dim=-1)\n",
        "#   target = torch.randint(5, (10,))\n",
        "\n",
        "#   acc = metric(preds, target)\n",
        "#   print(f\"Accuracy on batch {i}: {acc}\") # 현재 배치에서 모델 평가(정확도)\n",
        "\n",
        "# acc = metric.compute()\n",
        "# print(f\"Accuracy on all data: {acc}\") # 모든 배치에서 모델 평가(정확도)"
      ],
      "metadata": {
        "id": "YYrctx44RTv5"
      },
      "execution_count": null,
      "outputs": []
    },
    {
      "cell_type": "markdown",
      "source": [
        "## 2.2.7 훈련 과정 모니터링"
      ],
      "metadata": {
        "id": "YhqVBKyNRxSb"
      }
    },
    {
      "cell_type": "code",
      "source": [
        "!pip install tensorboard"
      ],
      "metadata": {
        "colab": {
          "base_uri": "https://localhost:8080/"
        },
        "id": "MCBSQf6ZRz27",
        "outputId": "a63d7378-ff96-4744-e256-70835f85cfd8"
      },
      "execution_count": 20,
      "outputs": [
        {
          "output_type": "stream",
          "name": "stdout",
          "text": [
            "Requirement already satisfied: tensorboard in /usr/local/lib/python3.12/dist-packages (2.19.0)\n",
            "Requirement already satisfied: absl-py>=0.4 in /usr/local/lib/python3.12/dist-packages (from tensorboard) (1.4.0)\n",
            "Requirement already satisfied: grpcio>=1.48.2 in /usr/local/lib/python3.12/dist-packages (from tensorboard) (1.74.0)\n",
            "Requirement already satisfied: markdown>=2.6.8 in /usr/local/lib/python3.12/dist-packages (from tensorboard) (3.8.2)\n",
            "Requirement already satisfied: numpy>=1.12.0 in /usr/local/lib/python3.12/dist-packages (from tensorboard) (2.0.2)\n",
            "Requirement already satisfied: packaging in /usr/local/lib/python3.12/dist-packages (from tensorboard) (25.0)\n",
            "Requirement already satisfied: protobuf!=4.24.0,>=3.19.6 in /usr/local/lib/python3.12/dist-packages (from tensorboard) (5.29.5)\n",
            "Requirement already satisfied: setuptools>=41.0.0 in /usr/local/lib/python3.12/dist-packages (from tensorboard) (75.2.0)\n",
            "Requirement already satisfied: six>1.9 in /usr/local/lib/python3.12/dist-packages (from tensorboard) (1.17.0)\n",
            "Requirement already satisfied: tensorboard-data-server<0.8.0,>=0.7.0 in /usr/local/lib/python3.12/dist-packages (from tensorboard) (0.7.2)\n",
            "Requirement already satisfied: werkzeug>=1.0.1 in /usr/local/lib/python3.12/dist-packages (from tensorboard) (3.1.3)\n",
            "Requirement already satisfied: MarkupSafe>=2.1.1 in /usr/local/lib/python3.12/dist-packages (from werkzeug>=1.0.1->tensorboard) (3.0.2)\n"
          ]
        }
      ]
    },
    {
      "cell_type": "markdown",
      "source": [
        "텐서보드 사용하기"
      ],
      "metadata": {
        "id": "sFXs1-a2SZQq"
      }
    },
    {
      "cell_type": "code",
      "source": [
        "# import torch\n",
        "# from torch.utils.tensorboard import SummaryWriter\n",
        "# writer = SummaryWriter(\"../euron_ch2/tensorboard\")\n",
        "\n",
        "# for epoch in range(num_epochs):\n",
        "#   model.train() # 학습 모드로 전환(dropout=True)\n",
        "#   batch_loss=0.0\n",
        "\n",
        "#   for i, (x, y) in enumerate(dataloader):\n",
        "#     x, y = x.to(device).float(), y.to(device).float()\n",
        "#     outputs = model(x)\n",
        "#     loss = criterion(outputs, y)\n",
        "#     writer.add_scalar(\"Loss\", loss, epoch) # 스칼라 값을 기록\n",
        "#     optimizer.zero_grad()\n",
        "#     loss.backward()\n",
        "#     optimizer.step()\n",
        "\n",
        "# writer.close() # SummaryWriter가 더 이상 필요하지 않으면 close() 메서드 호출\n"
      ],
      "metadata": {
        "id": "rFHRjbs3SbU8"
      },
      "execution_count": 22,
      "outputs": []
    },
    {
      "cell_type": "markdown",
      "source": [
        "# 2.4 파이토치 코드 맛보기"
      ],
      "metadata": {
        "id": "W12UXgYCaBvx"
      }
    },
    {
      "cell_type": "code",
      "source": [
        "!pip install matplotlib\n",
        "!pip install seaborn\n",
        "!pip install scikit-learn"
      ],
      "metadata": {
        "colab": {
          "base_uri": "https://localhost:8080/"
        },
        "id": "Hspl7kTqbJk3",
        "outputId": "d22d7b5b-2e1f-432c-b60c-19e5e94d8812"
      },
      "execution_count": 23,
      "outputs": [
        {
          "output_type": "stream",
          "name": "stdout",
          "text": [
            "Requirement already satisfied: matplotlib in /usr/local/lib/python3.12/dist-packages (3.10.0)\n",
            "Requirement already satisfied: contourpy>=1.0.1 in /usr/local/lib/python3.12/dist-packages (from matplotlib) (1.3.3)\n",
            "Requirement already satisfied: cycler>=0.10 in /usr/local/lib/python3.12/dist-packages (from matplotlib) (0.12.1)\n",
            "Requirement already satisfied: fonttools>=4.22.0 in /usr/local/lib/python3.12/dist-packages (from matplotlib) (4.59.2)\n",
            "Requirement already satisfied: kiwisolver>=1.3.1 in /usr/local/lib/python3.12/dist-packages (from matplotlib) (1.4.9)\n",
            "Requirement already satisfied: numpy>=1.23 in /usr/local/lib/python3.12/dist-packages (from matplotlib) (2.0.2)\n",
            "Requirement already satisfied: packaging>=20.0 in /usr/local/lib/python3.12/dist-packages (from matplotlib) (25.0)\n",
            "Requirement already satisfied: pillow>=8 in /usr/local/lib/python3.12/dist-packages (from matplotlib) (11.3.0)\n",
            "Requirement already satisfied: pyparsing>=2.3.1 in /usr/local/lib/python3.12/dist-packages (from matplotlib) (3.2.3)\n",
            "Requirement already satisfied: python-dateutil>=2.7 in /usr/local/lib/python3.12/dist-packages (from matplotlib) (2.9.0.post0)\n",
            "Requirement already satisfied: six>=1.5 in /usr/local/lib/python3.12/dist-packages (from python-dateutil>=2.7->matplotlib) (1.17.0)\n",
            "Requirement already satisfied: seaborn in /usr/local/lib/python3.12/dist-packages (0.13.2)\n",
            "Requirement already satisfied: numpy!=1.24.0,>=1.20 in /usr/local/lib/python3.12/dist-packages (from seaborn) (2.0.2)\n",
            "Requirement already satisfied: pandas>=1.2 in /usr/local/lib/python3.12/dist-packages (from seaborn) (2.2.2)\n",
            "Requirement already satisfied: matplotlib!=3.6.1,>=3.4 in /usr/local/lib/python3.12/dist-packages (from seaborn) (3.10.0)\n",
            "Requirement already satisfied: contourpy>=1.0.1 in /usr/local/lib/python3.12/dist-packages (from matplotlib!=3.6.1,>=3.4->seaborn) (1.3.3)\n",
            "Requirement already satisfied: cycler>=0.10 in /usr/local/lib/python3.12/dist-packages (from matplotlib!=3.6.1,>=3.4->seaborn) (0.12.1)\n",
            "Requirement already satisfied: fonttools>=4.22.0 in /usr/local/lib/python3.12/dist-packages (from matplotlib!=3.6.1,>=3.4->seaborn) (4.59.2)\n",
            "Requirement already satisfied: kiwisolver>=1.3.1 in /usr/local/lib/python3.12/dist-packages (from matplotlib!=3.6.1,>=3.4->seaborn) (1.4.9)\n",
            "Requirement already satisfied: packaging>=20.0 in /usr/local/lib/python3.12/dist-packages (from matplotlib!=3.6.1,>=3.4->seaborn) (25.0)\n",
            "Requirement already satisfied: pillow>=8 in /usr/local/lib/python3.12/dist-packages (from matplotlib!=3.6.1,>=3.4->seaborn) (11.3.0)\n",
            "Requirement already satisfied: pyparsing>=2.3.1 in /usr/local/lib/python3.12/dist-packages (from matplotlib!=3.6.1,>=3.4->seaborn) (3.2.3)\n",
            "Requirement already satisfied: python-dateutil>=2.7 in /usr/local/lib/python3.12/dist-packages (from matplotlib!=3.6.1,>=3.4->seaborn) (2.9.0.post0)\n",
            "Requirement already satisfied: pytz>=2020.1 in /usr/local/lib/python3.12/dist-packages (from pandas>=1.2->seaborn) (2025.2)\n",
            "Requirement already satisfied: tzdata>=2022.7 in /usr/local/lib/python3.12/dist-packages (from pandas>=1.2->seaborn) (2025.2)\n",
            "Requirement already satisfied: six>=1.5 in /usr/local/lib/python3.12/dist-packages (from python-dateutil>=2.7->matplotlib!=3.6.1,>=3.4->seaborn) (1.17.0)\n",
            "Requirement already satisfied: scikit-learn in /usr/local/lib/python3.12/dist-packages (1.6.1)\n",
            "Requirement already satisfied: numpy>=1.19.5 in /usr/local/lib/python3.12/dist-packages (from scikit-learn) (2.0.2)\n",
            "Requirement already satisfied: scipy>=1.6.0 in /usr/local/lib/python3.12/dist-packages (from scikit-learn) (1.16.1)\n",
            "Requirement already satisfied: joblib>=1.2.0 in /usr/local/lib/python3.12/dist-packages (from scikit-learn) (1.5.2)\n",
            "Requirement already satisfied: threadpoolctl>=3.1.0 in /usr/local/lib/python3.12/dist-packages (from scikit-learn) (3.6.0)\n"
          ]
        }
      ]
    },
    {
      "cell_type": "code",
      "source": [
        "# 2-1 필요한 라이브러리 호출\n",
        "import torch\n",
        "import torch.nn as nn\n",
        "import numpy as np\n",
        "import pandas as pd\n",
        "import matplotlib.pyplot as plt\n",
        "import seaborn as sns\n",
        "%matplotlib inline"
      ],
      "metadata": {
        "id": "1DvwHUwobdAS"
      },
      "execution_count": 24,
      "outputs": []
    },
    {
      "cell_type": "code",
      "source": [
        "# 2-2 데이터 호출\n",
        "dataset = pd.read_csv('../euron_ch2/data/car_evaluation.csv')\n",
        "dataset.head()"
      ],
      "metadata": {
        "colab": {
          "base_uri": "https://localhost:8080/",
          "height": 206
        },
        "id": "G-LHax3VbpnD",
        "outputId": "d9601161-5512-47db-9c05-7efd45228d28"
      },
      "execution_count": 27,
      "outputs": [
        {
          "output_type": "execute_result",
          "data": {
            "text/plain": [
              "   price  maint doors persons lug_capacity safety output\n",
              "0  vhigh  vhigh     2       2        small    low  unacc\n",
              "1  vhigh  vhigh     2       2        small    med  unacc\n",
              "2  vhigh  vhigh     2       2        small   high  unacc\n",
              "3  vhigh  vhigh     2       2          med    low  unacc\n",
              "4  vhigh  vhigh     2       2          med    med  unacc"
            ],
            "text/html": [
              "\n",
              "  <div id=\"df-191d04d0-b679-4290-9ca0-f3c4a44e7053\" class=\"colab-df-container\">\n",
              "    <div>\n",
              "<style scoped>\n",
              "    .dataframe tbody tr th:only-of-type {\n",
              "        vertical-align: middle;\n",
              "    }\n",
              "\n",
              "    .dataframe tbody tr th {\n",
              "        vertical-align: top;\n",
              "    }\n",
              "\n",
              "    .dataframe thead th {\n",
              "        text-align: right;\n",
              "    }\n",
              "</style>\n",
              "<table border=\"1\" class=\"dataframe\">\n",
              "  <thead>\n",
              "    <tr style=\"text-align: right;\">\n",
              "      <th></th>\n",
              "      <th>price</th>\n",
              "      <th>maint</th>\n",
              "      <th>doors</th>\n",
              "      <th>persons</th>\n",
              "      <th>lug_capacity</th>\n",
              "      <th>safety</th>\n",
              "      <th>output</th>\n",
              "    </tr>\n",
              "  </thead>\n",
              "  <tbody>\n",
              "    <tr>\n",
              "      <th>0</th>\n",
              "      <td>vhigh</td>\n",
              "      <td>vhigh</td>\n",
              "      <td>2</td>\n",
              "      <td>2</td>\n",
              "      <td>small</td>\n",
              "      <td>low</td>\n",
              "      <td>unacc</td>\n",
              "    </tr>\n",
              "    <tr>\n",
              "      <th>1</th>\n",
              "      <td>vhigh</td>\n",
              "      <td>vhigh</td>\n",
              "      <td>2</td>\n",
              "      <td>2</td>\n",
              "      <td>small</td>\n",
              "      <td>med</td>\n",
              "      <td>unacc</td>\n",
              "    </tr>\n",
              "    <tr>\n",
              "      <th>2</th>\n",
              "      <td>vhigh</td>\n",
              "      <td>vhigh</td>\n",
              "      <td>2</td>\n",
              "      <td>2</td>\n",
              "      <td>small</td>\n",
              "      <td>high</td>\n",
              "      <td>unacc</td>\n",
              "    </tr>\n",
              "    <tr>\n",
              "      <th>3</th>\n",
              "      <td>vhigh</td>\n",
              "      <td>vhigh</td>\n",
              "      <td>2</td>\n",
              "      <td>2</td>\n",
              "      <td>med</td>\n",
              "      <td>low</td>\n",
              "      <td>unacc</td>\n",
              "    </tr>\n",
              "    <tr>\n",
              "      <th>4</th>\n",
              "      <td>vhigh</td>\n",
              "      <td>vhigh</td>\n",
              "      <td>2</td>\n",
              "      <td>2</td>\n",
              "      <td>med</td>\n",
              "      <td>med</td>\n",
              "      <td>unacc</td>\n",
              "    </tr>\n",
              "  </tbody>\n",
              "</table>\n",
              "</div>\n",
              "    <div class=\"colab-df-buttons\">\n",
              "\n",
              "  <div class=\"colab-df-container\">\n",
              "    <button class=\"colab-df-convert\" onclick=\"convertToInteractive('df-191d04d0-b679-4290-9ca0-f3c4a44e7053')\"\n",
              "            title=\"Convert this dataframe to an interactive table.\"\n",
              "            style=\"display:none;\">\n",
              "\n",
              "  <svg xmlns=\"http://www.w3.org/2000/svg\" height=\"24px\" viewBox=\"0 -960 960 960\">\n",
              "    <path d=\"M120-120v-720h720v720H120Zm60-500h600v-160H180v160Zm220 220h160v-160H400v160Zm0 220h160v-160H400v160ZM180-400h160v-160H180v160Zm440 0h160v-160H620v160ZM180-180h160v-160H180v160Zm440 0h160v-160H620v160Z\"/>\n",
              "  </svg>\n",
              "    </button>\n",
              "\n",
              "  <style>\n",
              "    .colab-df-container {\n",
              "      display:flex;\n",
              "      gap: 12px;\n",
              "    }\n",
              "\n",
              "    .colab-df-convert {\n",
              "      background-color: #E8F0FE;\n",
              "      border: none;\n",
              "      border-radius: 50%;\n",
              "      cursor: pointer;\n",
              "      display: none;\n",
              "      fill: #1967D2;\n",
              "      height: 32px;\n",
              "      padding: 0 0 0 0;\n",
              "      width: 32px;\n",
              "    }\n",
              "\n",
              "    .colab-df-convert:hover {\n",
              "      background-color: #E2EBFA;\n",
              "      box-shadow: 0px 1px 2px rgba(60, 64, 67, 0.3), 0px 1px 3px 1px rgba(60, 64, 67, 0.15);\n",
              "      fill: #174EA6;\n",
              "    }\n",
              "\n",
              "    .colab-df-buttons div {\n",
              "      margin-bottom: 4px;\n",
              "    }\n",
              "\n",
              "    [theme=dark] .colab-df-convert {\n",
              "      background-color: #3B4455;\n",
              "      fill: #D2E3FC;\n",
              "    }\n",
              "\n",
              "    [theme=dark] .colab-df-convert:hover {\n",
              "      background-color: #434B5C;\n",
              "      box-shadow: 0px 1px 3px 1px rgba(0, 0, 0, 0.15);\n",
              "      filter: drop-shadow(0px 1px 2px rgba(0, 0, 0, 0.3));\n",
              "      fill: #FFFFFF;\n",
              "    }\n",
              "  </style>\n",
              "\n",
              "    <script>\n",
              "      const buttonEl =\n",
              "        document.querySelector('#df-191d04d0-b679-4290-9ca0-f3c4a44e7053 button.colab-df-convert');\n",
              "      buttonEl.style.display =\n",
              "        google.colab.kernel.accessAllowed ? 'block' : 'none';\n",
              "\n",
              "      async function convertToInteractive(key) {\n",
              "        const element = document.querySelector('#df-191d04d0-b679-4290-9ca0-f3c4a44e7053');\n",
              "        const dataTable =\n",
              "          await google.colab.kernel.invokeFunction('convertToInteractive',\n",
              "                                                    [key], {});\n",
              "        if (!dataTable) return;\n",
              "\n",
              "        const docLinkHtml = 'Like what you see? Visit the ' +\n",
              "          '<a target=\"_blank\" href=https://colab.research.google.com/notebooks/data_table.ipynb>data table notebook</a>'\n",
              "          + ' to learn more about interactive tables.';\n",
              "        element.innerHTML = '';\n",
              "        dataTable['output_type'] = 'display_data';\n",
              "        await google.colab.output.renderOutput(dataTable, element);\n",
              "        const docLink = document.createElement('div');\n",
              "        docLink.innerHTML = docLinkHtml;\n",
              "        element.appendChild(docLink);\n",
              "      }\n",
              "    </script>\n",
              "  </div>\n",
              "\n",
              "\n",
              "    <div id=\"df-bd990f74-c0bd-47ff-9600-b44477fd6886\">\n",
              "      <button class=\"colab-df-quickchart\" onclick=\"quickchart('df-bd990f74-c0bd-47ff-9600-b44477fd6886')\"\n",
              "                title=\"Suggest charts\"\n",
              "                style=\"display:none;\">\n",
              "\n",
              "<svg xmlns=\"http://www.w3.org/2000/svg\" height=\"24px\"viewBox=\"0 0 24 24\"\n",
              "     width=\"24px\">\n",
              "    <g>\n",
              "        <path d=\"M19 3H5c-1.1 0-2 .9-2 2v14c0 1.1.9 2 2 2h14c1.1 0 2-.9 2-2V5c0-1.1-.9-2-2-2zM9 17H7v-7h2v7zm4 0h-2V7h2v10zm4 0h-2v-4h2v4z\"/>\n",
              "    </g>\n",
              "</svg>\n",
              "      </button>\n",
              "\n",
              "<style>\n",
              "  .colab-df-quickchart {\n",
              "      --bg-color: #E8F0FE;\n",
              "      --fill-color: #1967D2;\n",
              "      --hover-bg-color: #E2EBFA;\n",
              "      --hover-fill-color: #174EA6;\n",
              "      --disabled-fill-color: #AAA;\n",
              "      --disabled-bg-color: #DDD;\n",
              "  }\n",
              "\n",
              "  [theme=dark] .colab-df-quickchart {\n",
              "      --bg-color: #3B4455;\n",
              "      --fill-color: #D2E3FC;\n",
              "      --hover-bg-color: #434B5C;\n",
              "      --hover-fill-color: #FFFFFF;\n",
              "      --disabled-bg-color: #3B4455;\n",
              "      --disabled-fill-color: #666;\n",
              "  }\n",
              "\n",
              "  .colab-df-quickchart {\n",
              "    background-color: var(--bg-color);\n",
              "    border: none;\n",
              "    border-radius: 50%;\n",
              "    cursor: pointer;\n",
              "    display: none;\n",
              "    fill: var(--fill-color);\n",
              "    height: 32px;\n",
              "    padding: 0;\n",
              "    width: 32px;\n",
              "  }\n",
              "\n",
              "  .colab-df-quickchart:hover {\n",
              "    background-color: var(--hover-bg-color);\n",
              "    box-shadow: 0 1px 2px rgba(60, 64, 67, 0.3), 0 1px 3px 1px rgba(60, 64, 67, 0.15);\n",
              "    fill: var(--button-hover-fill-color);\n",
              "  }\n",
              "\n",
              "  .colab-df-quickchart-complete:disabled,\n",
              "  .colab-df-quickchart-complete:disabled:hover {\n",
              "    background-color: var(--disabled-bg-color);\n",
              "    fill: var(--disabled-fill-color);\n",
              "    box-shadow: none;\n",
              "  }\n",
              "\n",
              "  .colab-df-spinner {\n",
              "    border: 2px solid var(--fill-color);\n",
              "    border-color: transparent;\n",
              "    border-bottom-color: var(--fill-color);\n",
              "    animation:\n",
              "      spin 1s steps(1) infinite;\n",
              "  }\n",
              "\n",
              "  @keyframes spin {\n",
              "    0% {\n",
              "      border-color: transparent;\n",
              "      border-bottom-color: var(--fill-color);\n",
              "      border-left-color: var(--fill-color);\n",
              "    }\n",
              "    20% {\n",
              "      border-color: transparent;\n",
              "      border-left-color: var(--fill-color);\n",
              "      border-top-color: var(--fill-color);\n",
              "    }\n",
              "    30% {\n",
              "      border-color: transparent;\n",
              "      border-left-color: var(--fill-color);\n",
              "      border-top-color: var(--fill-color);\n",
              "      border-right-color: var(--fill-color);\n",
              "    }\n",
              "    40% {\n",
              "      border-color: transparent;\n",
              "      border-right-color: var(--fill-color);\n",
              "      border-top-color: var(--fill-color);\n",
              "    }\n",
              "    60% {\n",
              "      border-color: transparent;\n",
              "      border-right-color: var(--fill-color);\n",
              "    }\n",
              "    80% {\n",
              "      border-color: transparent;\n",
              "      border-right-color: var(--fill-color);\n",
              "      border-bottom-color: var(--fill-color);\n",
              "    }\n",
              "    90% {\n",
              "      border-color: transparent;\n",
              "      border-bottom-color: var(--fill-color);\n",
              "    }\n",
              "  }\n",
              "</style>\n",
              "\n",
              "      <script>\n",
              "        async function quickchart(key) {\n",
              "          const quickchartButtonEl =\n",
              "            document.querySelector('#' + key + ' button');\n",
              "          quickchartButtonEl.disabled = true;  // To prevent multiple clicks.\n",
              "          quickchartButtonEl.classList.add('colab-df-spinner');\n",
              "          try {\n",
              "            const charts = await google.colab.kernel.invokeFunction(\n",
              "                'suggestCharts', [key], {});\n",
              "          } catch (error) {\n",
              "            console.error('Error during call to suggestCharts:', error);\n",
              "          }\n",
              "          quickchartButtonEl.classList.remove('colab-df-spinner');\n",
              "          quickchartButtonEl.classList.add('colab-df-quickchart-complete');\n",
              "        }\n",
              "        (() => {\n",
              "          let quickchartButtonEl =\n",
              "            document.querySelector('#df-bd990f74-c0bd-47ff-9600-b44477fd6886 button');\n",
              "          quickchartButtonEl.style.display =\n",
              "            google.colab.kernel.accessAllowed ? 'block' : 'none';\n",
              "        })();\n",
              "      </script>\n",
              "    </div>\n",
              "\n",
              "    </div>\n",
              "  </div>\n"
            ],
            "application/vnd.google.colaboratory.intrinsic+json": {
              "type": "dataframe",
              "variable_name": "dataset",
              "summary": "{\n  \"name\": \"dataset\",\n  \"rows\": 1728,\n  \"fields\": [\n    {\n      \"column\": \"price\",\n      \"properties\": {\n        \"dtype\": \"category\",\n        \"num_unique_values\": 4,\n        \"samples\": [\n          \"high\",\n          \"low\",\n          \"vhigh\"\n        ],\n        \"semantic_type\": \"\",\n        \"description\": \"\"\n      }\n    },\n    {\n      \"column\": \"maint\",\n      \"properties\": {\n        \"dtype\": \"category\",\n        \"num_unique_values\": 4,\n        \"samples\": [\n          \"high\",\n          \"low\",\n          \"vhigh\"\n        ],\n        \"semantic_type\": \"\",\n        \"description\": \"\"\n      }\n    },\n    {\n      \"column\": \"doors\",\n      \"properties\": {\n        \"dtype\": \"category\",\n        \"num_unique_values\": 4,\n        \"samples\": [\n          \"3\",\n          \"5more\",\n          \"2\"\n        ],\n        \"semantic_type\": \"\",\n        \"description\": \"\"\n      }\n    },\n    {\n      \"column\": \"persons\",\n      \"properties\": {\n        \"dtype\": \"category\",\n        \"num_unique_values\": 3,\n        \"samples\": [\n          \"2\",\n          \"4\",\n          \"more\"\n        ],\n        \"semantic_type\": \"\",\n        \"description\": \"\"\n      }\n    },\n    {\n      \"column\": \"lug_capacity\",\n      \"properties\": {\n        \"dtype\": \"category\",\n        \"num_unique_values\": 3,\n        \"samples\": [\n          \"small\",\n          \"med\",\n          \"big\"\n        ],\n        \"semantic_type\": \"\",\n        \"description\": \"\"\n      }\n    },\n    {\n      \"column\": \"safety\",\n      \"properties\": {\n        \"dtype\": \"category\",\n        \"num_unique_values\": 3,\n        \"samples\": [\n          \"low\",\n          \"med\",\n          \"high\"\n        ],\n        \"semantic_type\": \"\",\n        \"description\": \"\"\n      }\n    },\n    {\n      \"column\": \"output\",\n      \"properties\": {\n        \"dtype\": \"category\",\n        \"num_unique_values\": 4,\n        \"samples\": [\n          \"acc\",\n          \"good\",\n          \"unacc\"\n        ],\n        \"semantic_type\": \"\",\n        \"description\": \"\"\n      }\n    }\n  ]\n}"
            }
          },
          "metadata": {},
          "execution_count": 27
        }
      ]
    },
    {
      "cell_type": "code",
      "source": [
        "# 2-3 예제 데이터셋 분포\n",
        "fig_size = plt.rcParams[\"figure.figsize\"]\n",
        "fig_size[0] = 8\n",
        "fig_size[1] = 6\n",
        "plt.rcParams[\"figure.figsize\"] = fig_size\n",
        "dataset.output.value_counts().plot(kind='pie', autopct='%0.05f%%',\n",
        "colors=['lightblue', 'lightgreen', 'orange', 'pink'], explode=(0.05, 0.05, 0.05, 0.05))"
      ],
      "metadata": {
        "colab": {
          "base_uri": "https://localhost:8080/",
          "height": 517
        },
        "id": "haISd_CecWpG",
        "outputId": "2d2eee5f-de50-45a6-c8c0-1cf26c14ce8a"
      },
      "execution_count": 28,
      "outputs": [
        {
          "output_type": "execute_result",
          "data": {
            "text/plain": [
              "<Axes: ylabel='count'>"
            ]
          },
          "metadata": {},
          "execution_count": 28
        },
        {
          "output_type": "display_data",
          "data": {
            "text/plain": [
              "<Figure size 800x600 with 1 Axes>"
            ],
            "image/png": "[encoded data removed]"
          },
          "metadata": {}
        }
      ]
    },
    {
      "cell_type": "markdown",
      "source": [
        "데이터 전처리"
      ],
      "metadata": {
        "id": "geC6UN5lc3l4"
      }
    },
    {
      "cell_type": "code",
      "source": [
        "# 2-4 데이터를 범주형 타입으로 변환\n",
        "categorical_columns = ['price', 'maint', 'doors', 'persons', 'lug_capacity', 'safety']\n",
        "\n",
        "for category in categorical_columns:\n",
        "  dataset[category] = dataset[category].astype('category') # astype()메서드로 데이터를 범주형으로 변환\n",
        "\n",
        "price = dataset['price'].cat.codes.values\n",
        "maint = dataset['maint'].cat.codes.values\n",
        "doors = dataset['doors'].cat.codes.values\n",
        "persons = dataset['persons'].cat.codes.values\n",
        "lug_capacity = dataset['lug_capacity'].cat.codes.values\n",
        "safety = dataset['safety'].cat.codes.values\n",
        "\n",
        "categorical_data = np.stack([price, maint, doors, persons, lug_capacity, safety], 1)\n",
        "categorical_data[:10] # 합친 넘파이 배열 중 열 개의 행을 출력"
      ],
      "metadata": {
        "colab": {
          "base_uri": "https://localhost:8080/"
        },
        "id": "NjXeovrKc6kC",
        "outputId": "241b903d-e20b-462a-d51c-4a9fa0346e05"
      },
      "execution_count": 29,
      "outputs": [
        {
          "output_type": "execute_result",
          "data": {
            "text/plain": [
              "array([[3, 3, 0, 0, 2, 1],\n",
              "       [3, 3, 0, 0, 2, 2],\n",
              "       [3, 3, 0, 0, 2, 0],\n",
              "       [3, 3, 0, 0, 1, 1],\n",
              "       [3, 3, 0, 0, 1, 2],\n",
              "       [3, 3, 0, 0, 1, 0],\n",
              "       [3, 3, 0, 0, 0, 1],\n",
              "       [3, 3, 0, 0, 0, 2],\n",
              "       [3, 3, 0, 0, 0, 0],\n",
              "       [3, 3, 0, 1, 2, 1]], dtype=int8)"
            ]
          },
          "metadata": {},
          "execution_count": 29
        }
      ]
    },
    {
      "cell_type": "code",
      "source": [
        "# 2-5 배열을 텐서로 변환\n",
        "categorical_data = torch.tensor(categorical_data, dtype=torch.int64)\n",
        "categorical_data[:10]"
      ],
      "metadata": {
        "colab": {
          "base_uri": "https://localhost:8080/"
        },
        "id": "D4a9XJDreU1Z",
        "outputId": "310f47c8-7084-44a9-ea6f-7a3d0dc29f76"
      },
      "execution_count": 30,
      "outputs": [
        {
          "output_type": "execute_result",
          "data": {
            "text/plain": [
              "tensor([[3, 3, 0, 0, 2, 1],\n",
              "        [3, 3, 0, 0, 2, 2],\n",
              "        [3, 3, 0, 0, 2, 0],\n",
              "        [3, 3, 0, 0, 1, 1],\n",
              "        [3, 3, 0, 0, 1, 2],\n",
              "        [3, 3, 0, 0, 1, 0],\n",
              "        [3, 3, 0, 0, 0, 1],\n",
              "        [3, 3, 0, 0, 0, 2],\n",
              "        [3, 3, 0, 0, 0, 0],\n",
              "        [3, 3, 0, 1, 2, 1]])"
            ]
          },
          "metadata": {},
          "execution_count": 30
        }
      ]
    },
    {
      "cell_type": "code",
      "source": [
        "# 2-6 레이블로 사용할 칼럼을 텐서로 변환\n",
        "outputs = pd.get_dummies(dataset.output)\n",
        "outputs = outputs.values\n",
        "outputs = torch.tensor(outputs).flatten() # 1차원 텐서로 변환\n",
        "\n",
        "print(categorical_data.shape)\n",
        "print(outputs.shape)"
      ],
      "metadata": {
        "colab": {
          "base_uri": "https://localhost:8080/"
        },
        "id": "OXekzkM1ecyQ",
        "outputId": "cbfc66bb-370e-40ad-d7ff-b4b5e3de48fa"
      },
      "execution_count": 31,
      "outputs": [
        {
          "output_type": "stream",
          "name": "stdout",
          "text": [
            "torch.Size([1728, 6])\n",
            "torch.Size([6912])\n"
          ]
        }
      ]
    },
    {
      "cell_type": "code",
      "source": [
        "# get_dummies 예제\n",
        "data={\n",
        "    'gender' : ['male', 'female', 'male'],\n",
        "    'weight' : [72, 55, 68],\n",
        "    'nation' : ['Japan', 'Korea', 'Australia']\n",
        "}\n",
        "\n",
        "df = pd.DataFrame(data)\n",
        "df\n",
        "\n",
        "pd.get_dummies(df)"
      ],
      "metadata": {
        "colab": {
          "base_uri": "https://localhost:8080/",
          "height": 143
        },
        "id": "logHeqWCetm3",
        "outputId": "6e8d60d2-4c54-47b2-fce8-b45cb9ac8839"
      },
      "execution_count": 37,
      "outputs": [
        {
          "output_type": "execute_result",
          "data": {
            "text/plain": [
              "   weight  gender_female  gender_male  nation_Australia  nation_Japan  \\\n",
              "0      72          False         True             False          True   \n",
              "1      55           True        False             False         False   \n",
              "2      68          False         True              True         False   \n",
              "\n",
              "   nation_Korea  \n",
              "0         False  \n",
              "1          True  \n",
              "2         False  "
            ],
            "text/html": [
              "\n",
              "  <div id=\"df-8959bc6e-a67a-42b9-bc18-e3e4ff284557\" class=\"colab-df-container\">\n",
              "    <div>\n",
              "<style scoped>\n",
              "    .dataframe tbody tr th:only-of-type {\n",
              "        vertical-align: middle;\n",
              "    }\n",
              "\n",
              "    .dataframe tbody tr th {\n",
              "        vertical-align: top;\n",
              "    }\n",
              "\n",
              "    .dataframe thead th {\n",
              "        text-align: right;\n",
              "    }\n",
              "</style>\n",
              "<table border=\"1\" class=\"dataframe\">\n",
              "  <thead>\n",
              "    <tr style=\"text-align: right;\">\n",
              "      <th></th>\n",
              "      <th>weight</th>\n",
              "      <th>gender_female</th>\n",
              "      <th>gender_male</th>\n",
              "      <th>nation_Australia</th>\n",
              "      <th>nation_Japan</th>\n",
              "      <th>nation_Korea</th>\n",
              "    </tr>\n",
              "  </thead>\n",
              "  <tbody>\n",
              "    <tr>\n",
              "      <th>0</th>\n",
              "      <td>72</td>\n",
              "      <td>False</td>\n",
              "      <td>True</td>\n",
              "      <td>False</td>\n",
              "      <td>True</td>\n",
              "      <td>False</td>\n",
              "    </tr>\n",
              "    <tr>\n",
              "      <th>1</th>\n",
              "      <td>55</td>\n",
              "      <td>True</td>\n",
              "      <td>False</td>\n",
              "      <td>False</td>\n",
              "      <td>False</td>\n",
              "      <td>True</td>\n",
              "    </tr>\n",
              "    <tr>\n",
              "      <th>2</th>\n",
              "      <td>68</td>\n",
              "      <td>False</td>\n",
              "      <td>True</td>\n",
              "      <td>True</td>\n",
              "      <td>False</td>\n",
              "      <td>False</td>\n",
              "    </tr>\n",
              "  </tbody>\n",
              "</table>\n",
              "</div>\n",
              "    <div class=\"colab-df-buttons\">\n",
              "\n",
              "  <div class=\"colab-df-container\">\n",
              "    <button class=\"colab-df-convert\" onclick=\"convertToInteractive('df-8959bc6e-a67a-42b9-bc18-e3e4ff284557')\"\n",
              "            title=\"Convert this dataframe to an interactive table.\"\n",
              "            style=\"display:none;\">\n",
              "\n",
              "  <svg xmlns=\"http://www.w3.org/2000/svg\" height=\"24px\" viewBox=\"0 -960 960 960\">\n",
              "    <path d=\"M120-120v-720h720v720H120Zm60-500h600v-160H180v160Zm220 220h160v-160H400v160Zm0 220h160v-160H400v160ZM180-400h160v-160H180v160Zm440 0h160v-160H620v160ZM180-180h160v-160H180v160Zm440 0h160v-160H620v160Z\"/>\n",
              "  </svg>\n",
              "    </button>\n",
              "\n",
              "  <style>\n",
              "    .colab-df-container {\n",
              "      display:flex;\n",
              "      gap: 12px;\n",
              "    }\n",
              "\n",
              "    .colab-df-convert {\n",
              "      background-color: #E8F0FE;\n",
              "      border: none;\n",
              "      border-radius: 50%;\n",
              "      cursor: pointer;\n",
              "      display: none;\n",
              "      fill: #1967D2;\n",
              "      height: 32px;\n",
              "      padding: 0 0 0 0;\n",
              "      width: 32px;\n",
              "    }\n",
              "\n",
              "    .colab-df-convert:hover {\n",
              "      background-color: #E2EBFA;\n",
              "      box-shadow: 0px 1px 2px rgba(60, 64, 67, 0.3), 0px 1px 3px 1px rgba(60, 64, 67, 0.15);\n",
              "      fill: #174EA6;\n",
              "    }\n",
              "\n",
              "    .colab-df-buttons div {\n",
              "      margin-bottom: 4px;\n",
              "    }\n",
              "\n",
              "    [theme=dark] .colab-df-convert {\n",
              "      background-color: #3B4455;\n",
              "      fill: #D2E3FC;\n",
              "    }\n",
              "\n",
              "    [theme=dark] .colab-df-convert:hover {\n",
              "      background-color: #434B5C;\n",
              "      box-shadow: 0px 1px 3px 1px rgba(0, 0, 0, 0.15);\n",
              "      filter: drop-shadow(0px 1px 2px rgba(0, 0, 0, 0.3));\n",
              "      fill: #FFFFFF;\n",
              "    }\n",
              "  </style>\n",
              "\n",
              "    <script>\n",
              "      const buttonEl =\n",
              "        document.querySelector('#df-8959bc6e-a67a-42b9-bc18-e3e4ff284557 button.colab-df-convert');\n",
              "      buttonEl.style.display =\n",
              "        google.colab.kernel.accessAllowed ? 'block' : 'none';\n",
              "\n",
              "      async function convertToInteractive(key) {\n",
              "        const element = document.querySelector('#df-8959bc6e-a67a-42b9-bc18-e3e4ff284557');\n",
              "        const dataTable =\n",
              "          await google.colab.kernel.invokeFunction('convertToInteractive',\n",
              "                                                    [key], {});\n",
              "        if (!dataTable) return;\n",
              "\n",
              "        const docLinkHtml = 'Like what you see? Visit the ' +\n",
              "          '<a target=\"_blank\" href=https://colab.research.google.com/notebooks/data_table.ipynb>data table notebook</a>'\n",
              "          + ' to learn more about interactive tables.';\n",
              "        element.innerHTML = '';\n",
              "        dataTable['output_type'] = 'display_data';\n",
              "        await google.colab.output.renderOutput(dataTable, element);\n",
              "        const docLink = document.createElement('div');\n",
              "        docLink.innerHTML = docLinkHtml;\n",
              "        element.appendChild(docLink);\n",
              "      }\n",
              "    </script>\n",
              "  </div>\n",
              "\n",
              "\n",
              "    <div id=\"df-6cefc57d-f112-44b7-8430-a6698237791e\">\n",
              "      <button class=\"colab-df-quickchart\" onclick=\"quickchart('df-6cefc57d-f112-44b7-8430-a6698237791e')\"\n",
              "                title=\"Suggest charts\"\n",
              "                style=\"display:none;\">\n",
              "\n",
              "<svg xmlns=\"http://www.w3.org/2000/svg\" height=\"24px\"viewBox=\"0 0 24 24\"\n",
              "     width=\"24px\">\n",
              "    <g>\n",
              "        <path d=\"M19 3H5c-1.1 0-2 .9-2 2v14c0 1.1.9 2 2 2h14c1.1 0 2-.9 2-2V5c0-1.1-.9-2-2-2zM9 17H7v-7h2v7zm4 0h-2V7h2v10zm4 0h-2v-4h2v4z\"/>\n",
              "    </g>\n",
              "</svg>\n",
              "      </button>\n",
              "\n",
              "<style>\n",
              "  .colab-df-quickchart {\n",
              "      --bg-color: #E8F0FE;\n",
              "      --fill-color: #1967D2;\n",
              "      --hover-bg-color: #E2EBFA;\n",
              "      --hover-fill-color: #174EA6;\n",
              "      --disabled-fill-color: #AAA;\n",
              "      --disabled-bg-color: #DDD;\n",
              "  }\n",
              "\n",
              "  [theme=dark] .colab-df-quickchart {\n",
              "      --bg-color: #3B4455;\n",
              "      --fill-color: #D2E3FC;\n",
              "      --hover-bg-color: #434B5C;\n",
              "      --hover-fill-color: #FFFFFF;\n",
              "      --disabled-bg-color: #3B4455;\n",
              "      --disabled-fill-color: #666;\n",
              "  }\n",
              "\n",
              "  .colab-df-quickchart {\n",
              "    background-color: var(--bg-color);\n",
              "    border: none;\n",
              "    border-radius: 50%;\n",
              "    cursor: pointer;\n",
              "    display: none;\n",
              "    fill: var(--fill-color);\n",
              "    height: 32px;\n",
              "    padding: 0;\n",
              "    width: 32px;\n",
              "  }\n",
              "\n",
              "  .colab-df-quickchart:hover {\n",
              "    background-color: var(--hover-bg-color);\n",
              "    box-shadow: 0 1px 2px rgba(60, 64, 67, 0.3), 0 1px 3px 1px rgba(60, 64, 67, 0.15);\n",
              "    fill: var(--button-hover-fill-color);\n",
              "  }\n",
              "\n",
              "  .colab-df-quickchart-complete:disabled,\n",
              "  .colab-df-quickchart-complete:disabled:hover {\n",
              "    background-color: var(--disabled-bg-color);\n",
              "    fill: var(--disabled-fill-color);\n",
              "    box-shadow: none;\n",
              "  }\n",
              "\n",
              "  .colab-df-spinner {\n",
              "    border: 2px solid var(--fill-color);\n",
              "    border-color: transparent;\n",
              "    border-bottom-color: var(--fill-color);\n",
              "    animation:\n",
              "      spin 1s steps(1) infinite;\n",
              "  }\n",
              "\n",
              "  @keyframes spin {\n",
              "    0% {\n",
              "      border-color: transparent;\n",
              "      border-bottom-color: var(--fill-color);\n",
              "      border-left-color: var(--fill-color);\n",
              "    }\n",
              "    20% {\n",
              "      border-color: transparent;\n",
              "      border-left-color: var(--fill-color);\n",
              "      border-top-color: var(--fill-color);\n",
              "    }\n",
              "    30% {\n",
              "      border-color: transparent;\n",
              "      border-left-color: var(--fill-color);\n",
              "      border-top-color: var(--fill-color);\n",
              "      border-right-color: var(--fill-color);\n",
              "    }\n",
              "    40% {\n",
              "      border-color: transparent;\n",
              "      border-right-color: var(--fill-color);\n",
              "      border-top-color: var(--fill-color);\n",
              "    }\n",
              "    60% {\n",
              "      border-color: transparent;\n",
              "      border-right-color: var(--fill-color);\n",
              "    }\n",
              "    80% {\n",
              "      border-color: transparent;\n",
              "      border-right-color: var(--fill-color);\n",
              "      border-bottom-color: var(--fill-color);\n",
              "    }\n",
              "    90% {\n",
              "      border-color: transparent;\n",
              "      border-bottom-color: var(--fill-color);\n",
              "    }\n",
              "  }\n",
              "</style>\n",
              "\n",
              "      <script>\n",
              "        async function quickchart(key) {\n",
              "          const quickchartButtonEl =\n",
              "            document.querySelector('#' + key + ' button');\n",
              "          quickchartButtonEl.disabled = true;  // To prevent multiple clicks.\n",
              "          quickchartButtonEl.classList.add('colab-df-spinner');\n",
              "          try {\n",
              "            const charts = await google.colab.kernel.invokeFunction(\n",
              "                'suggestCharts', [key], {});\n",
              "          } catch (error) {\n",
              "            console.error('Error during call to suggestCharts:', error);\n",
              "          }\n",
              "          quickchartButtonEl.classList.remove('colab-df-spinner');\n",
              "          quickchartButtonEl.classList.add('colab-df-quickchart-complete');\n",
              "        }\n",
              "        (() => {\n",
              "          let quickchartButtonEl =\n",
              "            document.querySelector('#df-6cefc57d-f112-44b7-8430-a6698237791e button');\n",
              "          quickchartButtonEl.style.display =\n",
              "            google.colab.kernel.accessAllowed ? 'block' : 'none';\n",
              "        })();\n",
              "      </script>\n",
              "    </div>\n",
              "\n",
              "    </div>\n",
              "  </div>\n"
            ],
            "application/vnd.google.colaboratory.intrinsic+json": {
              "type": "dataframe",
              "summary": "{\n  \"name\": \"pd\",\n  \"rows\": 3,\n  \"fields\": [\n    {\n      \"column\": \"weight\",\n      \"properties\": {\n        \"dtype\": \"number\",\n        \"std\": 8,\n        \"min\": 55,\n        \"max\": 72,\n        \"num_unique_values\": 3,\n        \"samples\": [\n          72,\n          55,\n          68\n        ],\n        \"semantic_type\": \"\",\n        \"description\": \"\"\n      }\n    },\n    {\n      \"column\": \"gender_female\",\n      \"properties\": {\n        \"dtype\": \"boolean\",\n        \"num_unique_values\": 2,\n        \"samples\": [\n          true,\n          false\n        ],\n        \"semantic_type\": \"\",\n        \"description\": \"\"\n      }\n    },\n    {\n      \"column\": \"gender_male\",\n      \"properties\": {\n        \"dtype\": \"boolean\",\n        \"num_unique_values\": 2,\n        \"samples\": [\n          false,\n          true\n        ],\n        \"semantic_type\": \"\",\n        \"description\": \"\"\n      }\n    },\n    {\n      \"column\": \"nation_Australia\",\n      \"properties\": {\n        \"dtype\": \"boolean\",\n        \"num_unique_values\": 2,\n        \"samples\": [\n          true,\n          false\n        ],\n        \"semantic_type\": \"\",\n        \"description\": \"\"\n      }\n    },\n    {\n      \"column\": \"nation_Japan\",\n      \"properties\": {\n        \"dtype\": \"boolean\",\n        \"num_unique_values\": 2,\n        \"samples\": [\n          false,\n          true\n        ],\n        \"semantic_type\": \"\",\n        \"description\": \"\"\n      }\n    },\n    {\n      \"column\": \"nation_Korea\",\n      \"properties\": {\n        \"dtype\": \"boolean\",\n        \"num_unique_values\": 2,\n        \"samples\": [\n          true,\n          false\n        ],\n        \"semantic_type\": \"\",\n        \"description\": \"\"\n      }\n    }\n  ]\n}"
            }
          },
          "metadata": {},
          "execution_count": 37
        }
      ]
    },
    {
      "cell_type": "code",
      "source": [
        "# 2-7 범주형 칼럼을 N차원으로 변환\n",
        "categorical_column_sizes = [len(dataset[column].cat.categories) for column in\n",
        "                            categorical_columns]\n",
        "categorical_embedding_sizes = [(col_size, min(50, (col_size+1)//2)) for col_size in\n",
        "                               categorical_column_sizes]\n",
        "print(categorical_embedding_sizes)"
      ],
      "metadata": {
        "colab": {
          "base_uri": "https://localhost:8080/"
        },
        "id": "bTQZVKZ7fJ71",
        "outputId": "00643771-3390-4e32-ef0d-3177522429e1"
      },
      "execution_count": 38,
      "outputs": [
        {
          "output_type": "stream",
          "name": "stdout",
          "text": [
            "[(4, 2), (4, 2), (4, 2), (3, 2), (3, 2), (3, 2)]\n"
          ]
        }
      ]
    },
    {
      "cell_type": "code",
      "source": [
        "# 2-8 데이터셋 분리\n",
        "total_records = 1728\n",
        "test_records = int(total_records * .2)\n",
        "\n",
        "categorical_train_data = categorical_data[:total_records - test_records]\n",
        "categorical_test_data = categorical_data[total_records - test_records:total_records]\n",
        "train_outputs = outputs[:total_records - test_records]\n",
        "test_outputs = outputs[total_records - test_records:total_records]"
      ],
      "metadata": {
        "id": "Xmltr725fnUl"
      },
      "execution_count": 41,
      "outputs": []
    },
    {
      "cell_type": "code",
      "source": [
        "# 2-9 데이터셋 분리 확인\n",
        "print(len(categorical_train_data))\n",
        "print(len(train_outputs))\n",
        "print(len(categorical_test_data))\n",
        "print(len(test_outputs))"
      ],
      "metadata": {
        "colab": {
          "base_uri": "https://localhost:8080/"
        },
        "id": "ewFkg4AXf9NU",
        "outputId": "72836390-f8dd-46a0-a0ac-3f6919bad045"
      },
      "execution_count": 42,
      "outputs": [
        {
          "output_type": "stream",
          "name": "stdout",
          "text": [
            "1383\n",
            "1383\n",
            "345\n",
            "345\n"
          ]
        }
      ]
    },
    {
      "cell_type": "markdown",
      "source": [
        "데이터 준비 끝!\n",
        "모델 네트워크 생성"
      ],
      "metadata": {
        "id": "MhmCJbEWgKVK"
      }
    },
    {
      "cell_type": "code",
      "source": [
        "# 2-10 모델의 네트워크 생성\n",
        "class Model(nn.Module): # class 형태로 구현되는 모델은 nn.Module을 상속받음\n",
        "  def __init__(self, embedding_size, output_size, layers, p=0.4): # init:파라미터&신경망 초기화 용도\n",
        "    # self: 첫번째 파라미터는 self를 지정해야함\n",
        "    # embedding_size: 범주형 칼럼의 임베딩 크기\n",
        "    # output_size: 출력층의 크기\n",
        "    # layers: 모든 계층에 대한 목록\n",
        "    # p: 드롭아웃(기본 0.5)\n",
        "    super().__init__() # 부모 클래스 접근\n",
        "    self.all_embeddings = nn.ModuleList([nn.Embedding(ni, nf) for ni,\n",
        "                                         nf in embedding_size])\n",
        "    self.embedding_dropout = nn.Dropout(p)\n",
        "\n",
        "    all_layers = []\n",
        "    num_categorical_cols = sum((nf for ni, nf in embedding_size))\n",
        "    input_size = num_categorical_cols\n",
        "\n",
        "    for i in layers:\n",
        "      all_layers.append(nn.Linear(input_size, i)) # 선형 변환\n",
        "      all_layers.append(nn.ReLU(inplace=True)) # 활성화 함수\n",
        "      all_layers.append(nn.BatchNorm1d(i)) # 배치 정규화\n",
        "      all_layers.append(nn.Dropout(p)) # 과적합 방지\n",
        "      input_size = i\n",
        "\n",
        "    all_layers.append(nn.Linear(layers[-1], output_size))\n",
        "    self.layers = nn.Sequential(*all_layers)\n",
        "\n",
        "  def forward(self, x_categorical):\n",
        "    embeddings = []\n",
        "    for i, e in enumerate(self.all_embeddings):\n",
        "      embeddings.append(e(x_categorical[:, i]))\n",
        "\n",
        "    x = torch.cat(embeddings, 1) # 넘파이의 concatenate와 같지만 대상:텐서\n",
        "    x = self.embedding_dropout(x)\n",
        "    x = self.layers(x)\n",
        "    return x\n"
      ],
      "metadata": {
        "id": "jW3zdm2ngM1T"
      },
      "execution_count": 44,
      "outputs": []
    },
    {
      "cell_type": "code",
      "source": [
        "# 2-11 Model 클래스의 객체 생성\n",
        "model = Model(categorical_embedding_sizes, 4, [200, 100, 50], p=0.4)\n",
        "print(model)"
      ],
      "metadata": {
        "colab": {
          "base_uri": "https://localhost:8080/"
        },
        "id": "BbgZODBfiFDk",
        "outputId": "64069df8-3934-4391-cbcd-a7f514162974"
      },
      "execution_count": 45,
      "outputs": [
        {
          "output_type": "stream",
          "name": "stdout",
          "text": [
            "Model(\n",
            "  (all_embeddings): ModuleList(\n",
            "    (0-2): 3 x Embedding(4, 2)\n",
            "    (3-5): 3 x Embedding(3, 2)\n",
            "  )\n",
            "  (embedding_dropout): Dropout(p=0.4, inplace=False)\n",
            "  (layers): Sequential(\n",
            "    (0): Linear(in_features=12, out_features=200, bias=True)\n",
            "    (1): ReLU(inplace=True)\n",
            "    (2): BatchNorm1d(200, eps=1e-05, momentum=0.1, affine=True, track_running_stats=True)\n",
            "    (3): Dropout(p=0.4, inplace=False)\n",
            "    (4): Linear(in_features=200, out_features=100, bias=True)\n",
            "    (5): ReLU(inplace=True)\n",
            "    (6): BatchNorm1d(100, eps=1e-05, momentum=0.1, affine=True, track_running_stats=True)\n",
            "    (7): Dropout(p=0.4, inplace=False)\n",
            "    (8): Linear(in_features=100, out_features=50, bias=True)\n",
            "    (9): ReLU(inplace=True)\n",
            "    (10): BatchNorm1d(50, eps=1e-05, momentum=0.1, affine=True, track_running_stats=True)\n",
            "    (11): Dropout(p=0.4, inplace=False)\n",
            "    (12): Linear(in_features=50, out_features=4, bias=True)\n",
            "  )\n",
            ")\n"
          ]
        }
      ]
    },
    {
      "cell_type": "code",
      "source": [
        "# 2-12 모델의 파라미터 정의\n",
        "loss_function = nn.CrossEntropyLoss()\n",
        "optimizer = torch.optim.Adam(model.parameters(), lr=0.001)"
      ],
      "metadata": {
        "id": "uy9hDHD3iNx6"
      },
      "execution_count": 47,
      "outputs": []
    },
    {
      "cell_type": "code",
      "source": [
        "# 2-13 CPU/GPU 사용 지정\n",
        "if torch.cuda.is_available():\n",
        "  device = torch.device('cuda') # GPU 사용\n",
        "else:\n",
        "  device = torch.device('cpu') # 없으면 CPU 사용"
      ],
      "metadata": {
        "id": "whLwAf_aiYDM"
      },
      "execution_count": 48,
      "outputs": []
    },
    {
      "cell_type": "markdown",
      "source": [
        "훈련 준비 끝!\n",
        "데이터를 이용하여 모델 학습"
      ],
      "metadata": {
        "id": "h-dO9IVcika3"
      }
    },
    {
      "cell_type": "code",
      "source": [
        "# 2-14 모델 학습\n",
        "epochs = 500\n",
        "aggregated_losses = []\n",
        "train_outputs = train_outputs.to(device=device, dtype=torch.int64)\n",
        "\n",
        "for i in range(epochs): # for문 500회 반복, 각 반복마다 손실 함수가 오차 계산\n",
        "  i +=1\n",
        "  y_pred = model(categorical_train_data).to(device)\n",
        "  single_loss = loss_function(y_pred, train_outputs)\n",
        "  aggregated_losses.append(single_loss) # 반복할 때마다 오차를 aggregated_losses에 추가\n",
        "\n",
        "  if i%25 == 1:\n",
        "    print(f'epoch: {i:3} loss: {single_loss.item():10.8f}')\n",
        "\n",
        "  optimizer.zero_grad()\n",
        "  single_loss.backward() # 가중치를 업데이트하기 위해 손실 함수의 backward() 메서드 호출\n",
        "  optimizer.step() # 옵티마이저 함수의 step() 메서드를 이용하여 기울기 업데이트\n",
        "\n",
        "print(f'epoch: {i:3} loss: {single_loss.item():10.10f}') # 오차가 25 epoch마다 출력"
      ],
      "metadata": {
        "colab": {
          "base_uri": "https://localhost:8080/"
        },
        "id": "rUKSpQcXinC0",
        "outputId": "670fd693-6abb-44c0-edf3-503a63e326ab"
      },
      "execution_count": 49,
      "outputs": [
        {
          "output_type": "stream",
          "name": "stdout",
          "text": [
            "epoch:   1 loss: 1.62831151\n",
            "epoch:  26 loss: 1.42962027\n",
            "epoch:  51 loss: 1.32056499\n",
            "epoch:  76 loss: 1.23162675\n",
            "epoch: 101 loss: 1.08712542\n",
            "epoch: 126 loss: 0.94222379\n",
            "epoch: 151 loss: 0.82797635\n",
            "epoch: 176 loss: 0.74663544\n",
            "epoch: 201 loss: 0.71032995\n",
            "epoch: 226 loss: 0.67684633\n",
            "epoch: 251 loss: 0.62947941\n",
            "epoch: 276 loss: 0.62530053\n",
            "epoch: 301 loss: 0.60195500\n",
            "epoch: 326 loss: 0.59246695\n",
            "epoch: 351 loss: 0.59520644\n",
            "epoch: 376 loss: 0.58633816\n",
            "epoch: 401 loss: 0.58702993\n",
            "epoch: 426 loss: 0.58086765\n",
            "epoch: 451 loss: 0.58487290\n",
            "epoch: 476 loss: 0.57960933\n",
            "epoch: 500 loss: 0.5700920224\n"
          ]
        }
      ]
    },
    {
      "cell_type": "markdown",
      "source": [
        "학습 끝! 테스트 데이터셋으로 예측 진행"
      ],
      "metadata": {
        "id": "XtyRy7PBjmFz"
      }
    },
    {
      "cell_type": "code",
      "source": [
        "# 2-15 테스트 데이터셋으로 모델 예측\n",
        "test_outputs = test_outputs.to(device=device, dtype=torch.int64)\n",
        "\n",
        "with torch.no_grad():\n",
        "    y_val = model(categorical_test_data)  # 이제 y_val도 GPU에 있음\n",
        "    loss = loss_function(y_val, test_outputs)\n",
        "print(f'Loss: {loss:.8f}')"
      ],
      "metadata": {
        "colab": {
          "base_uri": "https://localhost:8080/"
        },
        "id": "sZyAM0Fujosv",
        "outputId": "20848aba-935f-4d1c-ff46-fd2d81e8d1e1"
      },
      "execution_count": 62,
      "outputs": [
        {
          "output_type": "stream",
          "name": "stdout",
          "text": [
            "Loss: 0.57972068\n"
          ]
        }
      ]
    },
    {
      "cell_type": "code",
      "source": [
        "# 2-16 모델의 예측 확인\n",
        "print(y_val[:5])"
      ],
      "metadata": {
        "colab": {
          "base_uri": "https://localhost:8080/"
        },
        "id": "UOaK3uC_kovI",
        "outputId": "c18d959c-fb2d-456c-c33a-6c0bcf881d79"
      },
      "execution_count": 63,
      "outputs": [
        {
          "output_type": "stream",
          "name": "stdout",
          "text": [
            "tensor([[ 2.7851,  1.6718, -3.5953, -3.4631],\n",
            "        [ 3.3056,  2.1791, -5.2233, -5.5471],\n",
            "        [ 2.0358,  1.2689, -2.7185, -2.3289],\n",
            "        [ 3.1135,  1.7284, -4.4627, -4.1672],\n",
            "        [ 2.0639,  1.4120, -2.6999, -2.2461]], device='cuda:0')\n"
          ]
        }
      ]
    },
    {
      "cell_type": "code",
      "source": [
        "# 2-17 가장 큰 값을 갖는 인덱스 확인\n",
        "y_val = y_val.cpu().numpy()   # GPU 텐서를 CPU 넘파이 배열로 변환\n",
        "y_val = np.argmax(y_val, axis=1)\n",
        "print(y_val[:5])"
      ],
      "metadata": {
        "colab": {
          "base_uri": "https://localhost:8080/"
        },
        "id": "VMMnJSywktFy",
        "outputId": "67d18e1e-5f2a-4baa-db64-4e1dde815120"
      },
      "execution_count": 64,
      "outputs": [
        {
          "output_type": "stream",
          "name": "stdout",
          "text": [
            "[0 0 0 0 0]\n"
          ]
        }
      ]
    },
    {
      "cell_type": "code",
      "source": [
        "# 2-18 테스트 데이터셋을 이용한 정확도 확인\n",
        "from sklearn.metrics import classification_report, confusion_matrix, accuracy_score\n",
        "\n",
        "# GPU Tensor → CPU NumPy 변환\n",
        "y_true = test_outputs.cpu().numpy()\n",
        "y_pred = y_val  # 이미 np.argmax로 넘파이 배열로 바꿔둔 상태\n",
        "\n",
        "print(confusion_matrix(y_true, y_pred))\n",
        "print(classification_report(y_true, y_pred))\n",
        "print(accuracy_score(y_true, y_pred))"
      ],
      "metadata": {
        "colab": {
          "base_uri": "https://localhost:8080/"
        },
        "id": "tk6-YAHZl5Ym",
        "outputId": "cfd1636b-aa4b-4fbe-a69e-c83ba0a44172"
      },
      "execution_count": 66,
      "outputs": [
        {
          "output_type": "stream",
          "name": "stdout",
          "text": [
            "[[257   2]\n",
            " [ 86   0]]\n",
            "              precision    recall  f1-score   support\n",
            "\n",
            "           0       0.75      0.99      0.85       259\n",
            "           1       0.00      0.00      0.00        86\n",
            "\n",
            "    accuracy                           0.74       345\n",
            "   macro avg       0.37      0.50      0.43       345\n",
            "weighted avg       0.56      0.74      0.64       345\n",
            "\n",
            "0.744927536231884\n"
          ]
        }
      ]
    }
  ]
}